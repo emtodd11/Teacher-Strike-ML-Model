{
 "cells": [
  {
   "cell_type": "code",
   "execution_count": 1,
   "metadata": {},
   "outputs": [],
   "source": [
    "%matplotlib inline\n",
    "import matplotlib.pyplot as plt\n",
    "import pandas as pd\n",
    "import os\n",
    "import pickle\n",
    "import seaborn as sns\n",
    "from sklearn.metrics import confusion_matrix"
   ]
  },
  {
   "cell_type": "code",
   "execution_count": 2,
   "metadata": {},
   "outputs": [
    {
     "data": {
      "text/html": [
       "<div>\n",
       "<style scoped>\n",
       "    .dataframe tbody tr th:only-of-type {\n",
       "        vertical-align: middle;\n",
       "    }\n",
       "\n",
       "    .dataframe tbody tr th {\n",
       "        vertical-align: top;\n",
       "    }\n",
       "\n",
       "    .dataframe thead th {\n",
       "        text-align: right;\n",
       "    }\n",
       "</style>\n",
       "<table border=\"1\" class=\"dataframe\">\n",
       "  <thead>\n",
       "    <tr style=\"text-align: right;\">\n",
       "      <th></th>\n",
       "      <th>District</th>\n",
       "      <th>State</th>\n",
       "      <th>Students</th>\n",
       "      <th>Charter_Percent</th>\n",
       "      <th>ELL_Percent</th>\n",
       "      <th>IEP_Percent</th>\n",
       "      <th>Pupil_Teacher_Ratio</th>\n",
       "      <th>Exp_Rev_Ratio</th>\n",
       "      <th>Strike</th>\n",
       "    </tr>\n",
       "  </thead>\n",
       "  <tbody>\n",
       "    <tr>\n",
       "      <th>0</th>\n",
       "      <td>DETROIT PUBLIC SCHOOLS COMMUNITY DISTRICT</td>\n",
       "      <td>Michigan</td>\n",
       "      <td>45455</td>\n",
       "      <td>0.00</td>\n",
       "      <td>0.12</td>\n",
       "      <td>0.17</td>\n",
       "      <td>17.66</td>\n",
       "      <td>0.960</td>\n",
       "      <td>1</td>\n",
       "    </tr>\n",
       "    <tr>\n",
       "      <th>1</th>\n",
       "      <td>LOS ANGELES UNIFIED</td>\n",
       "      <td>California</td>\n",
       "      <td>633621</td>\n",
       "      <td>0.28</td>\n",
       "      <td>0.21</td>\n",
       "      <td>0.14</td>\n",
       "      <td>22.56</td>\n",
       "      <td>0.991</td>\n",
       "      <td>1</td>\n",
       "    </tr>\n",
       "    <tr>\n",
       "      <th>2</th>\n",
       "      <td>CITY OF CHICAGO SD 299</td>\n",
       "      <td>Illinois</td>\n",
       "      <td>378199</td>\n",
       "      <td>0.07</td>\n",
       "      <td>0.16</td>\n",
       "      <td>0.14</td>\n",
       "      <td>19.89</td>\n",
       "      <td>1.150</td>\n",
       "      <td>0</td>\n",
       "    </tr>\n",
       "    <tr>\n",
       "      <th>3</th>\n",
       "      <td>DADE</td>\n",
       "      <td>Florida</td>\n",
       "      <td>357249</td>\n",
       "      <td>0.24</td>\n",
       "      <td>0.21</td>\n",
       "      <td>0.10</td>\n",
       "      <td>17.11</td>\n",
       "      <td>1.023</td>\n",
       "      <td>0</td>\n",
       "    </tr>\n",
       "    <tr>\n",
       "      <th>4</th>\n",
       "      <td>CLARK COUNTY SCHOOL DISTRICT</td>\n",
       "      <td>Nevada</td>\n",
       "      <td>326953</td>\n",
       "      <td>0.04</td>\n",
       "      <td>0.18</td>\n",
       "      <td>0.12</td>\n",
       "      <td>20.10</td>\n",
       "      <td>0.932</td>\n",
       "      <td>0</td>\n",
       "    </tr>\n",
       "  </tbody>\n",
       "</table>\n",
       "</div>"
      ],
      "text/plain": [
       "                                    District       State  Students  \\\n",
       "0  DETROIT PUBLIC SCHOOLS COMMUNITY DISTRICT    Michigan     45455   \n",
       "1                        LOS ANGELES UNIFIED  California    633621   \n",
       "2                     CITY OF CHICAGO SD 299    Illinois    378199   \n",
       "3                                       DADE     Florida    357249   \n",
       "4               CLARK COUNTY SCHOOL DISTRICT      Nevada    326953   \n",
       "\n",
       "   Charter_Percent  ELL_Percent  IEP_Percent  Pupil_Teacher_Ratio  \\\n",
       "0             0.00         0.12         0.17                17.66   \n",
       "1             0.28         0.21         0.14                22.56   \n",
       "2             0.07         0.16         0.14                19.89   \n",
       "3             0.24         0.21         0.10                17.11   \n",
       "4             0.04         0.18         0.12                20.10   \n",
       "\n",
       "   Exp_Rev_Ratio  Strike  \n",
       "0          0.960       1  \n",
       "1          0.991       1  \n",
       "2          1.150       0  \n",
       "3          1.023       0  \n",
       "4          0.932       0  "
      ]
     },
     "execution_count": 2,
     "metadata": {},
     "output_type": "execute_result"
    }
   ],
   "source": [
    "df = pd.read_csv(\"data.csv\")\n",
    "df.head()"
   ]
  },
  {
   "cell_type": "code",
   "execution_count": 3,
   "metadata": {},
   "outputs": [
    {
     "name": "stdout",
     "output_type": "stream",
     "text": [
      "(6922, 6) (6922,)\n",
      "      Students  Charter_Percent  ELL_Percent  IEP_Percent  \\\n",
      "0        45455             0.00         0.12         0.17   \n",
      "1       633621             0.28         0.21         0.14   \n",
      "2       378199             0.07         0.16         0.14   \n",
      "3       357249             0.24         0.21         0.10   \n",
      "4       326953             0.04         0.18         0.12   \n",
      "5       271852             0.29         0.12         0.13   \n",
      "6       216106             0.11         0.29         0.07   \n",
      "7       214386             0.13         0.12         0.14   \n",
      "8       200674             0.00         0.14         0.11   \n",
      "9       192721             0.19         0.13         0.16   \n",
      "10      187467             0.00         0.19         0.14   \n",
      "11      181550             0.12         0.07         0.11   \n",
      "12      178214             0.01         0.13         0.12   \n",
      "13      160467             0.00         0.07         0.13   \n",
      "14      159010             0.00         0.15         0.12   \n",
      "15      157886             0.00         0.40         0.08   \n",
      "16      147428             0.00         0.11         0.09   \n",
      "17      133929             0.00         0.10         0.18   \n",
      "18      130814             0.05         0.17         0.11   \n",
      "19      129479             0.17         0.05         0.14   \n",
      "20      128040             0.22         0.20         0.14   \n",
      "21      114868             0.00         0.13         0.08   \n",
      "22      113151             0.03         0.10         0.13   \n",
      "23      112139             0.00         0.05         0.13   \n",
      "24      111403             0.00         0.07         0.12   \n",
      "25      106145             0.00         0.08         0.12   \n",
      "26      102905             0.12         0.06         0.13   \n",
      "27      102295             0.16         0.11         0.12   \n",
      "28      101284             0.08         0.15         0.10   \n",
      "29       99813             0.00         0.07         0.12   \n",
      "...        ...              ...          ...          ...   \n",
      "6892      1008             0.00         0.04         0.17   \n",
      "6893      1007             0.00         0.05         0.20   \n",
      "6894      1007             0.50         0.01         0.11   \n",
      "6895      1007             0.00         0.00         0.20   \n",
      "6896      1007             0.00         0.14         0.10   \n",
      "6897      1007             0.00         0.03         0.06   \n",
      "6898      1006             0.00         0.00         0.14   \n",
      "6899      1005             0.00         0.00         0.14   \n",
      "6900      1004             0.00         0.06         0.13   \n",
      "6901      1004             0.00         0.06         0.13   \n",
      "6902      1004             0.00         0.09         0.11   \n",
      "6903      1004             0.00         0.00         0.19   \n",
      "6904      1004             0.00         0.02         0.11   \n",
      "6905      1003             1.00         0.24         0.12   \n",
      "6906      1003             1.00         0.06         0.06   \n",
      "6907      1003             1.00         0.03         0.11   \n",
      "6908      1003             0.00         0.01         0.12   \n",
      "6909      1003             1.00         0.01         0.20   \n",
      "6910      1003             0.00         0.02         0.09   \n",
      "6911      1002             0.00         0.02         0.17   \n",
      "6912      1002             0.00         0.17         0.16   \n",
      "6913      1002             0.00         0.01         0.18   \n",
      "6914      1002             0.00         0.00         0.15   \n",
      "6915      1002             0.00         0.00         0.15   \n",
      "6916      1001             0.00         0.00         0.20   \n",
      "6917      1001             0.00         0.05         0.15   \n",
      "6918      1000             0.00         0.00         0.16   \n",
      "6919      1000             0.00         0.01         0.18   \n",
      "6920      1000             0.00         0.01         0.18   \n",
      "6921      1000             1.00         0.00         0.07   \n",
      "\n",
      "      Pupil_Teacher_Ratio  Exp_Rev_Ratio  \n",
      "0                   17.66          0.960  \n",
      "1                   22.56          0.991  \n",
      "2                   19.89          1.150  \n",
      "3                   17.11          1.023  \n",
      "4                   20.10          0.932  \n",
      "5                   16.58          1.011  \n",
      "6                   18.72          0.959  \n",
      "7                   11.74          1.077  \n",
      "8                   16.08          0.979  \n",
      "9                   15.18          0.997  \n",
      "10                  15.01          1.064  \n",
      "11                  15.41          0.932  \n",
      "12                  16.02          1.018  \n",
      "13                  16.06          1.172  \n",
      "14                  14.85          0.840  \n",
      "15                  15.02          0.967  \n",
      "16                  16.16          1.101  \n",
      "17                  16.84          0.908  \n",
      "18                  14.49          0.987  \n",
      "19                  17.75          1.020  \n",
      "20                  22.83          1.017  \n",
      "21                  16.48          1.020  \n",
      "22                  15.37          1.012  \n",
      "23                  15.61          0.982  \n",
      "24                  16.45          1.025  \n",
      "25                  15.38          1.050  \n",
      "26                  15.08          1.056  \n",
      "27                  15.18          0.994  \n",
      "28                  14.73          0.906  \n",
      "29                  16.37          1.013  \n",
      "...                   ...            ...  \n",
      "6892                17.56          0.902  \n",
      "6893                14.40          1.006  \n",
      "6894                16.27          0.978  \n",
      "6895                11.26          1.494  \n",
      "6896                12.67          0.798  \n",
      "6897                14.44          0.928  \n",
      "6898                 8.75          0.941  \n",
      "6899                11.43          0.960  \n",
      "6900                15.30          0.965  \n",
      "6901                17.24          1.010  \n",
      "6902                16.73          2.769  \n",
      "6903                13.53          0.988  \n",
      "6904                12.23          0.902  \n",
      "6905                20.06          1.004  \n",
      "6906                16.86          1.013  \n",
      "6907                12.38          0.888  \n",
      "6908                10.18          0.884  \n",
      "6909                16.18          0.962  \n",
      "6910                15.75          0.908  \n",
      "6911                16.32          1.003  \n",
      "6912                16.11          0.862  \n",
      "6913                15.15          1.079  \n",
      "6914                14.79          0.946  \n",
      "6915                14.06          1.239  \n",
      "6916                15.99          0.913  \n",
      "6917                10.45          1.006  \n",
      "6918                14.16          1.183  \n",
      "6919                16.00          0.894  \n",
      "6920                16.05          0.849  \n",
      "6921                21.80          0.969  \n",
      "\n",
      "[6922 rows x 6 columns] 0       1\n",
      "1       1\n",
      "2       0\n",
      "3       0\n",
      "4       0\n",
      "5       0\n",
      "6       0\n",
      "7       0\n",
      "8       0\n",
      "9       0\n",
      "10      0\n",
      "11      0\n",
      "12      0\n",
      "13      0\n",
      "14      0\n",
      "15      0\n",
      "16      0\n",
      "17      0\n",
      "18      0\n",
      "19      0\n",
      "20      0\n",
      "21      0\n",
      "22      0\n",
      "23      0\n",
      "24      0\n",
      "25      0\n",
      "26      0\n",
      "27      0\n",
      "28      0\n",
      "29      1\n",
      "       ..\n",
      "6892    0\n",
      "6893    0\n",
      "6894    0\n",
      "6895    0\n",
      "6896    0\n",
      "6897    0\n",
      "6898    0\n",
      "6899    0\n",
      "6900    0\n",
      "6901    0\n",
      "6902    0\n",
      "6903    0\n",
      "6904    0\n",
      "6905    0\n",
      "6906    0\n",
      "6907    0\n",
      "6908    0\n",
      "6909    0\n",
      "6910    0\n",
      "6911    0\n",
      "6912    0\n",
      "6913    1\n",
      "6914    0\n",
      "6915    0\n",
      "6916    1\n",
      "6917    0\n",
      "6918    0\n",
      "6919    0\n",
      "6920    0\n",
      "6921    0\n",
      "Name: Strike, Length: 6922, dtype: int64\n"
     ]
    }
   ],
   "source": [
    "X1 = df.drop(\"Strike\",axis=1)\n",
    "X2 = X1.drop(\"District\",axis=1)\n",
    "X = X2.drop(\"State\",axis=1)\n",
    "y = df[\"Strike\"]\n",
    "print(X.shape, y.shape)\n",
    "print(X,y)"
   ]
  },
  {
   "cell_type": "code",
   "execution_count": 4,
   "metadata": {},
   "outputs": [
    {
     "data": {
      "text/plain": [
       "0.930222479052297"
      ]
     },
     "execution_count": 4,
     "metadata": {},
     "output_type": "execute_result"
    }
   ],
   "source": [
    "1- sum(y)/len(y)"
   ]
  },
  {
   "cell_type": "code",
   "execution_count": 5,
   "metadata": {},
   "outputs": [],
   "source": [
    "class_weight = {0:0.07, 1:0.93}"
   ]
  },
  {
   "cell_type": "code",
   "execution_count": 6,
   "metadata": {},
   "outputs": [],
   "source": [
    "from sklearn.preprocessing import StandardScaler\n",
    "X_scaler = StandardScaler().fit(X)"
   ]
  },
  {
   "cell_type": "code",
   "execution_count": 7,
   "metadata": {},
   "outputs": [],
   "source": [
    "X_scaled = X_scaler.transform(X)"
   ]
  },
  {
   "cell_type": "code",
   "execution_count": 8,
   "metadata": {},
   "outputs": [],
   "source": [
    "from sklearn.model_selection import train_test_split\n",
    "\n",
    "X_train, X_test, y_train, y_test = train_test_split(X_scaled, y, test_size=0.2, random_state=1)"
   ]
  },
  {
   "cell_type": "code",
   "execution_count": 9,
   "metadata": {},
   "outputs": [
    {
     "data": {
      "text/plain": [
       "LogisticRegression(C=1.0, class_weight={0: 0.07, 1: 0.93}, dual=False,\n",
       "          fit_intercept=True, intercept_scaling=1, max_iter=100,\n",
       "          multi_class='ovr', n_jobs=1, penalty='l2', random_state=None,\n",
       "          solver='liblinear', tol=0.0001, verbose=0, warm_start=False)"
      ]
     },
     "execution_count": 9,
     "metadata": {},
     "output_type": "execute_result"
    }
   ],
   "source": [
    "from sklearn.linear_model import LogisticRegression\n",
    "#classifier = LogisticRegression(penalty='l2', solver='saga', class_weight=class_weight)\n",
    "classifier = LogisticRegression(class_weight=class_weight)\n",
    "classifier"
   ]
  },
  {
   "cell_type": "code",
   "execution_count": 10,
   "metadata": {},
   "outputs": [
    {
     "data": {
      "text/plain": [
       "LogisticRegression(C=1.0, class_weight={0: 0.07, 1: 0.93}, dual=False,\n",
       "          fit_intercept=True, intercept_scaling=1, max_iter=100,\n",
       "          multi_class='ovr', n_jobs=1, penalty='l2', random_state=None,\n",
       "          solver='liblinear', tol=0.0001, verbose=0, warm_start=False)"
      ]
     },
     "execution_count": 10,
     "metadata": {},
     "output_type": "execute_result"
    }
   ],
   "source": [
    "classifier.fit(X_train, y_train)"
   ]
  },
  {
   "cell_type": "code",
   "execution_count": 11,
   "metadata": {},
   "outputs": [],
   "source": [
    "y_predict = classifier.predict(X_test)"
   ]
  },
  {
   "cell_type": "code",
   "execution_count": 12,
   "metadata": {},
   "outputs": [
    {
     "name": "stdout",
     "output_type": "stream",
     "text": [
      "Training Data Score: 0.42405634820299803\n",
      "Validation Data Score: 0.4469314079422383\n"
     ]
    }
   ],
   "source": [
    "print(f\"Training Data Score: {classifier.score(X_train, y_train)}\")\n",
    "print(f\"Validation Data Score: {classifier.score(X_test, y_test)}\")\n"
   ]
  },
  {
   "cell_type": "code",
   "execution_count": 13,
   "metadata": {},
   "outputs": [
    {
     "data": {
      "text/plain": [
       "<matplotlib.axes._subplots.AxesSubplot at 0x15e3f83a6a0>"
      ]
     },
     "execution_count": 13,
     "metadata": {},
     "output_type": "execute_result"
    },
    {
     "data": {
      "image/png": "[encoded data removed]",
      "text/plain": [
       "<Figure size 720x504 with 2 Axes>"
      ]
     },
     "metadata": {
      "needs_background": "light"
     },
     "output_type": "display_data"
    }
   ],
   "source": [
    "# Let's check the correlation between the variables \n",
    "plt.figure(figsize=(10,7)) \n",
    "sns.heatmap(df.corr(),annot=True) "
   ]
  },
  {
   "cell_type": "code",
   "execution_count": 14,
   "metadata": {},
   "outputs": [],
   "source": [
    "train_pred = classifier.predict(X_train)"
   ]
  },
  {
   "cell_type": "code",
   "execution_count": 15,
   "metadata": {},
   "outputs": [],
   "source": [
    "tn, fp, fn, tp = confusion_matrix(y_train, train_pred).ravel()"
   ]
  },
  {
   "cell_type": "code",
   "execution_count": 16,
   "metadata": {},
   "outputs": [
    {
     "data": {
      "text/plain": [
       "(2082, 3067, 122, 266)"
      ]
     },
     "execution_count": 16,
     "metadata": {},
     "output_type": "execute_result"
    }
   ],
   "source": [
    "(tn, fp, fn, tp)"
   ]
  },
  {
   "cell_type": "code",
   "execution_count": 17,
   "metadata": {},
   "outputs": [],
   "source": [
    "test_tn, test_fp, test_fn, test_tp = confusion_matrix(y_test, y_predict).ravel()"
   ]
  },
  {
   "cell_type": "code",
   "execution_count": 18,
   "metadata": {},
   "outputs": [
    {
     "data": {
      "text/plain": [
       "(551, 739, 27, 68)"
      ]
     },
     "execution_count": 18,
     "metadata": {},
     "output_type": "execute_result"
    }
   ],
   "source": [
    "(test_tn, test_fp, test_fn, test_tp)"
   ]
  },
  {
   "cell_type": "code",
   "execution_count": 19,
   "metadata": {},
   "outputs": [
    {
     "data": {
      "text/plain": [
       "0.7157894736842105"
      ]
     },
     "execution_count": 19,
     "metadata": {},
     "output_type": "execute_result"
    }
   ],
   "source": [
    "from sklearn.metrics import recall_score\n",
    "recall_score(y_test, y_predict)"
   ]
  },
  {
   "cell_type": "code",
   "execution_count": 20,
   "metadata": {},
   "outputs": [
    {
     "data": {
      "text/plain": [
       "0.08426270136307311"
      ]
     },
     "execution_count": 20,
     "metadata": {},
     "output_type": "execute_result"
    }
   ],
   "source": [
    "precision = (test_tp)/(test_tp + test_fp)\n",
    "precision"
   ]
  },
  {
   "cell_type": "code",
   "execution_count": 21,
   "metadata": {},
   "outputs": [
    {
     "data": {
      "text/plain": [
       "0.4469314079422383"
      ]
     },
     "execution_count": 21,
     "metadata": {},
     "output_type": "execute_result"
    }
   ],
   "source": [
    "accuracy = (test_tp + test_tn)/(test_tp + test_tn + test_fp + test_fn)\n",
    "accuracy"
   ]
  },
  {
   "cell_type": "code",
   "execution_count": 22,
   "metadata": {},
   "outputs": [
    {
     "data": {
      "text/plain": [
       "array([1, 1, 1, ..., 0, 1, 0], dtype=int64)"
      ]
     },
     "execution_count": 22,
     "metadata": {},
     "output_type": "execute_result"
    }
   ],
   "source": [
    "classifier.predict(X_test)"
   ]
  },
  {
   "cell_type": "code",
   "execution_count": 24,
   "metadata": {},
   "outputs": [
    {
     "data": {
      "text/plain": [
       "array([[0.62733964, 0.37266036]])"
      ]
     },
     "execution_count": 24,
     "metadata": {},
     "output_type": "execute_result"
    }
   ],
   "source": [
    "classifier.predict_proba(X_scaler.transform([[10000, 0.1, 0.5, 0.25, 20, 1]]))"
   ]
  },
  {
   "cell_type": "code",
   "execution_count": 25,
   "metadata": {},
   "outputs": [
    {
     "data": {
      "text/plain": [
       "array([[0.49437366, 0.50562634],\n",
       "       [0.53238525, 0.46761475],\n",
       "       [0.44312851, 0.55687149],\n",
       "       ...,\n",
       "       [0.52084486, 0.47915514],\n",
       "       [0.56242618, 0.43757382],\n",
       "       [0.47197225, 0.52802775]])"
      ]
     },
     "execution_count": 25,
     "metadata": {},
     "output_type": "execute_result"
    }
   ],
   "source": [
    "classifier.predict_proba(X_train)"
   ]
  },
  {
   "cell_type": "code",
   "execution_count": 26,
   "metadata": {},
   "outputs": [
    {
     "name": "stdout",
     "output_type": "stream",
     "text": [
      "[0]\n",
      "[[0.62733964 0.37266036]]\n"
     ]
    }
   ],
   "source": [
    "pickle.dump(classifier, open('model.pkl','wb'))\n",
    "model = pickle.load(open('model.pkl','rb'))\n",
    "print(model.predict(X_scaler.transform([[10000, 0.1, 0.5, 0.25, 20, 1]])))\n",
    "print(model.predict_proba(X_scaler.transform([[10000, 0.1, 0.5, 0.25, 20, 1]])))"
   ]
  },
  {
   "cell_type": "code",
   "execution_count": null,
   "metadata": {},
   "outputs": [],
   "source": []
  }
 ],
 "metadata": {
  "kernelspec": {
   "display_name": "Python 3",
   "language": "python",
   "name": "python3"
  },
  "language_info": {
   "codemirror_mode": {
    "name": "ipython",
    "version": 3
   },
   "file_extension": ".py",
   "mimetype": "text/x-python",
   "name": "python",
   "nbconvert_exporter": "python",
   "pygments_lexer": "ipython3",
   "version": "3.7.0"
  }
 },
 "nbformat": 4,
 "nbformat_minor": 2
}
