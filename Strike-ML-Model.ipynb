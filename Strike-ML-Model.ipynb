{
 "cells": [
  {
   "cell_type": "code",
   "execution_count": 14,
   "metadata": {},
   "outputs": [],
   "source": [
    "%matplotlib inline\n",
    "import matplotlib.pyplot as plt\n",
    "import pandas as pd\n",
    "import os\n",
    "import pickle\n",
    "import seaborn as sns\n",
    "from sklearn.metrics import confusion_matrix"
   ]
  },
  {
   "cell_type": "code",
   "execution_count": 15,
   "metadata": {},
   "outputs": [
    {
     "data": {
      "text/html": [
       "<div>\n",
       "<style scoped>\n",
       "    .dataframe tbody tr th:only-of-type {\n",
       "        vertical-align: middle;\n",
       "    }\n",
       "\n",
       "    .dataframe tbody tr th {\n",
       "        vertical-align: top;\n",
       "    }\n",
       "\n",
       "    .dataframe thead th {\n",
       "        text-align: right;\n",
       "    }\n",
       "</style>\n",
       "<table border=\"1\" class=\"dataframe\">\n",
       "  <thead>\n",
       "    <tr style=\"text-align: right;\">\n",
       "      <th></th>\n",
       "      <th>District</th>\n",
       "      <th>State</th>\n",
       "      <th>Students</th>\n",
       "      <th>Charter_Percent</th>\n",
       "      <th>ELL_Percent</th>\n",
       "      <th>IEP_Percent</th>\n",
       "      <th>Low_Income_Percent</th>\n",
       "      <th>Pupil_Teacher_Ratio</th>\n",
       "      <th>Exp_Rev_Ratio</th>\n",
       "      <th>Strike</th>\n",
       "    </tr>\n",
       "  </thead>\n",
       "  <tbody>\n",
       "    <tr>\n",
       "      <th>0</th>\n",
       "      <td>DETROIT PUBLIC SCHOOLS COMMUNITY DISTRICT</td>\n",
       "      <td>Michigan</td>\n",
       "      <td>45455</td>\n",
       "      <td>0.00</td>\n",
       "      <td>0.12</td>\n",
       "      <td>0.17</td>\n",
       "      <td>0.767088</td>\n",
       "      <td>17.66</td>\n",
       "      <td>0.960</td>\n",
       "      <td>1</td>\n",
       "    </tr>\n",
       "    <tr>\n",
       "      <th>1</th>\n",
       "      <td>LOS ANGELES UNIFIED</td>\n",
       "      <td>California</td>\n",
       "      <td>633621</td>\n",
       "      <td>0.28</td>\n",
       "      <td>0.21</td>\n",
       "      <td>0.14</td>\n",
       "      <td>0.785724</td>\n",
       "      <td>22.56</td>\n",
       "      <td>0.991</td>\n",
       "      <td>1</td>\n",
       "    </tr>\n",
       "    <tr>\n",
       "      <th>2</th>\n",
       "      <td>CITY OF CHICAGO SD 299</td>\n",
       "      <td>Illinois</td>\n",
       "      <td>378199</td>\n",
       "      <td>0.07</td>\n",
       "      <td>0.16</td>\n",
       "      <td>0.14</td>\n",
       "      <td>0.834812</td>\n",
       "      <td>19.89</td>\n",
       "      <td>1.150</td>\n",
       "      <td>0</td>\n",
       "    </tr>\n",
       "    <tr>\n",
       "      <th>3</th>\n",
       "      <td>DADE</td>\n",
       "      <td>Florida</td>\n",
       "      <td>357249</td>\n",
       "      <td>0.24</td>\n",
       "      <td>0.21</td>\n",
       "      <td>0.10</td>\n",
       "      <td>0.708192</td>\n",
       "      <td>17.11</td>\n",
       "      <td>1.023</td>\n",
       "      <td>0</td>\n",
       "    </tr>\n",
       "    <tr>\n",
       "      <th>4</th>\n",
       "      <td>CLARK COUNTY SCHOOL DISTRICT</td>\n",
       "      <td>Nevada</td>\n",
       "      <td>326953</td>\n",
       "      <td>0.04</td>\n",
       "      <td>0.18</td>\n",
       "      <td>0.12</td>\n",
       "      <td>0.694803</td>\n",
       "      <td>20.10</td>\n",
       "      <td>0.932</td>\n",
       "      <td>0</td>\n",
       "    </tr>\n",
       "  </tbody>\n",
       "</table>\n",
       "</div>"
      ],
      "text/plain": [
       "                                    District       State  Students  \\\n",
       "0  DETROIT PUBLIC SCHOOLS COMMUNITY DISTRICT    Michigan     45455   \n",
       "1                        LOS ANGELES UNIFIED  California    633621   \n",
       "2                     CITY OF CHICAGO SD 299    Illinois    378199   \n",
       "3                                       DADE     Florida    357249   \n",
       "4               CLARK COUNTY SCHOOL DISTRICT      Nevada    326953   \n",
       "\n",
       "   Charter_Percent  ELL_Percent  IEP_Percent  Low_Income_Percent  \\\n",
       "0             0.00         0.12         0.17            0.767088   \n",
       "1             0.28         0.21         0.14            0.785724   \n",
       "2             0.07         0.16         0.14            0.834812   \n",
       "3             0.24         0.21         0.10            0.708192   \n",
       "4             0.04         0.18         0.12            0.694803   \n",
       "\n",
       "   Pupil_Teacher_Ratio  Exp_Rev_Ratio  Strike  \n",
       "0                17.66          0.960       1  \n",
       "1                22.56          0.991       1  \n",
       "2                19.89          1.150       0  \n",
       "3                17.11          1.023       0  \n",
       "4                20.10          0.932       0  "
      ]
     },
     "execution_count": 15,
     "metadata": {},
     "output_type": "execute_result"
    }
   ],
   "source": [
    "df = pd.read_csv(\"data.csv\")\n",
    "df.head()"
   ]
  },
  {
   "cell_type": "code",
   "execution_count": 16,
   "metadata": {},
   "outputs": [
    {
     "name": "stdout",
     "output_type": "stream",
     "text": [
      "(6234, 7) (6234,)\n",
      "      Students  Charter_Percent  ELL_Percent  IEP_Percent  Low_Income_Percent  \\\n",
      "0        45455             0.00         0.12         0.17            0.767088   \n",
      "1       633621             0.28         0.21         0.14            0.785724   \n",
      "2       378199             0.07         0.16         0.14            0.834812   \n",
      "3       357249             0.24         0.21         0.10            0.708192   \n",
      "4       326953             0.04         0.18         0.12            0.694803   \n",
      "5       271852             0.29         0.12         0.13            0.618888   \n",
      "6       216106             0.11         0.29         0.07            0.769803   \n",
      "7       214386             0.13         0.12         0.14            0.581656   \n",
      "8       192721             0.19         0.13         0.16            0.591824   \n",
      "9       187467             0.00         0.19         0.14            0.269151   \n",
      "10      181550             0.12         0.07         0.11            0.475770   \n",
      "11      178214             0.01         0.13         0.12            0.546001   \n",
      "12      160467             0.00         0.07         0.13            0.343348   \n",
      "13      159010             0.00         0.15         0.12            0.351116   \n",
      "14      157886             0.00         0.40         0.08            0.877766   \n",
      "15      147428             0.00         0.11         0.09            0.602484   \n",
      "16      133929             0.00         0.10         0.18            0.975046   \n",
      "17      130814             0.05         0.17         0.11            0.674370   \n",
      "18      129479             0.17         0.05         0.14            0.520347   \n",
      "19      128040             0.22         0.20         0.14            0.599094   \n",
      "20      114868             0.00         0.13         0.08            0.499243   \n",
      "21      113151             0.03         0.10         0.13            0.444388   \n",
      "22      112139             0.00         0.05         0.13            0.458520   \n",
      "23      111403             0.00         0.07         0.12            0.520135   \n",
      "24      106145             0.00         0.08         0.12            0.328571   \n",
      "25      102905             0.12         0.06         0.13            0.502726   \n",
      "26      102295             0.16         0.11         0.12            0.523789   \n",
      "27      101284             0.08         0.15         0.10            0.714841   \n",
      "28       99813             0.00         0.07         0.12            0.598479   \n",
      "29       96122             0.00         0.07         0.10            0.725914   \n",
      "...        ...              ...          ...          ...                 ...   \n",
      "6204      1009             0.00         0.03         0.13            1.000000   \n",
      "6205      1009             0.00         0.01         0.19            0.376611   \n",
      "6206      1009             0.00         0.04         0.08            0.492567   \n",
      "6207      1009             1.00         0.02         0.10            0.618434   \n",
      "6208      1009             0.00         0.04         0.07            0.355798   \n",
      "6209      1008             0.00         0.02         0.21            0.244048   \n",
      "6210      1008             0.00         0.04         0.17            0.541667   \n",
      "6211      1007             0.00         0.05         0.20            0.604767   \n",
      "6212      1007             0.00         0.14         0.10            0.614697   \n",
      "6213      1007             0.00         0.03         0.06            0.774578   \n",
      "6214      1006             0.00         0.00         0.14            0.231610   \n",
      "6215      1004             0.00         0.06         0.13            0.512948   \n",
      "6216      1004             0.00         0.06         0.13            0.505976   \n",
      "6217      1004             0.00         0.09         0.11            0.250996   \n",
      "6218      1004             0.00         0.00         0.19            0.429283   \n",
      "6219      1004             0.00         0.02         0.11            0.665339   \n",
      "6220      1003             1.00         0.24         0.12            0.716849   \n",
      "6221      1003             1.00         0.06         0.06            0.259222   \n",
      "6222      1003             1.00         0.03         0.11            0.782652   \n",
      "6223      1003             0.00         0.01         0.12            0.274177   \n",
      "6224      1003             0.00         0.02         0.09            0.155533   \n",
      "6225      1002             0.00         0.02         0.17            0.314371   \n",
      "6226      1002             0.00         0.17         0.16            0.599800   \n",
      "6227      1002             0.00         0.01         0.18            0.647705   \n",
      "6228      1002             0.00         0.00         0.15            0.525948   \n",
      "6229      1002             0.00         0.00         0.15            0.545908   \n",
      "6230      1001             0.00         0.05         0.15            0.399600   \n",
      "6231      1000             0.00         0.00         0.16            0.737000   \n",
      "6232      1000             0.00         0.01         0.18            0.473000   \n",
      "6233      1000             1.00         0.00         0.07            0.311000   \n",
      "\n",
      "      Pupil_Teacher_Ratio  Exp_Rev_Ratio  \n",
      "0                   17.66          0.960  \n",
      "1                   22.56          0.991  \n",
      "2                   19.89          1.150  \n",
      "3                   17.11          1.023  \n",
      "4                   20.10          0.932  \n",
      "5                   16.58          1.011  \n",
      "6                   18.72          0.959  \n",
      "7                   11.74          1.077  \n",
      "8                   15.18          0.997  \n",
      "9                   15.01          1.064  \n",
      "10                  15.41          0.932  \n",
      "11                  16.02          1.018  \n",
      "12                  16.06          1.172  \n",
      "13                  14.85          0.840  \n",
      "14                  15.02          0.967  \n",
      "15                  16.16          1.101  \n",
      "16                  16.84          0.908  \n",
      "17                  14.49          0.987  \n",
      "18                  17.75          1.020  \n",
      "19                  22.83          1.017  \n",
      "20                  16.48          1.020  \n",
      "21                  15.37          1.012  \n",
      "22                  15.61          0.982  \n",
      "23                  16.45          1.025  \n",
      "24                  15.38          1.050  \n",
      "25                  15.08          1.056  \n",
      "26                  15.18          0.994  \n",
      "27                  14.73          0.906  \n",
      "28                  16.37          1.013  \n",
      "29                  14.98          1.054  \n",
      "...                   ...            ...  \n",
      "6204                13.17          0.920  \n",
      "6205                12.88          0.878  \n",
      "6206                18.51          0.664  \n",
      "6207                13.31          0.901  \n",
      "6208                12.83          0.920  \n",
      "6209                10.70          0.967  \n",
      "6210                17.56          0.902  \n",
      "6211                14.40          1.006  \n",
      "6212                12.67          0.798  \n",
      "6213                14.44          0.928  \n",
      "6214                 8.75          0.941  \n",
      "6215                15.30          0.965  \n",
      "6216                17.24          1.010  \n",
      "6217                16.73          2.769  \n",
      "6218                13.53          0.988  \n",
      "6219                12.23          0.902  \n",
      "6220                20.06          1.004  \n",
      "6221                16.86          1.013  \n",
      "6222                12.38          0.888  \n",
      "6223                10.18          0.884  \n",
      "6224                15.75          0.908  \n",
      "6225                16.32          1.003  \n",
      "6226                16.11          0.862  \n",
      "6227                15.15          1.079  \n",
      "6228                14.79          0.946  \n",
      "6229                14.06          1.239  \n",
      "6230                10.45          1.006  \n",
      "6231                14.16          1.183  \n",
      "6232                16.05          0.849  \n",
      "6233                21.80          0.969  \n",
      "\n",
      "[6234 rows x 7 columns] 0       1\n",
      "1       1\n",
      "2       0\n",
      "3       0\n",
      "4       0\n",
      "5       0\n",
      "6       0\n",
      "7       0\n",
      "8       0\n",
      "9       0\n",
      "10      0\n",
      "11      0\n",
      "12      0\n",
      "13      0\n",
      "14      0\n",
      "15      0\n",
      "16      0\n",
      "17      0\n",
      "18      0\n",
      "19      0\n",
      "20      0\n",
      "21      0\n",
      "22      0\n",
      "23      0\n",
      "24      0\n",
      "25      0\n",
      "26      0\n",
      "27      0\n",
      "28      1\n",
      "29      0\n",
      "       ..\n",
      "6204    0\n",
      "6205    0\n",
      "6206    0\n",
      "6207    0\n",
      "6208    0\n",
      "6209    0\n",
      "6210    0\n",
      "6211    0\n",
      "6212    0\n",
      "6213    0\n",
      "6214    0\n",
      "6215    0\n",
      "6216    0\n",
      "6217    0\n",
      "6218    0\n",
      "6219    0\n",
      "6220    0\n",
      "6221    0\n",
      "6222    0\n",
      "6223    0\n",
      "6224    0\n",
      "6225    0\n",
      "6226    0\n",
      "6227    1\n",
      "6228    0\n",
      "6229    0\n",
      "6230    0\n",
      "6231    0\n",
      "6232    0\n",
      "6233    0\n",
      "Name: Strike, Length: 6234, dtype: int64\n"
     ]
    }
   ],
   "source": [
    "X1 = df.drop(\"Strike\",axis=1)\n",
    "X2 = X1.drop(\"District\",axis=1)\n",
    "X = X2.drop(\"State\",axis=1)\n",
    "y = df[\"Strike\"]\n",
    "print(X.shape, y.shape)\n",
    "print(X,y)"
   ]
  },
  {
   "cell_type": "code",
   "execution_count": 17,
   "metadata": {},
   "outputs": [
    {
     "data": {
      "text/plain": [
       "0.9273339749759384"
      ]
     },
     "execution_count": 17,
     "metadata": {},
     "output_type": "execute_result"
    }
   ],
   "source": [
    "1- sum(y)/len(y)"
   ]
  },
  {
   "cell_type": "code",
   "execution_count": 18,
   "metadata": {},
   "outputs": [],
   "source": [
    "class_weight = {0:0.07, 1:0.93}"
   ]
  },
  {
   "cell_type": "code",
   "execution_count": 19,
   "metadata": {},
   "outputs": [],
   "source": [
    "from sklearn.preprocessing import StandardScaler\n",
    "X_scaler = StandardScaler().fit(X)"
   ]
  },
  {
   "cell_type": "code",
   "execution_count": 20,
   "metadata": {},
   "outputs": [],
   "source": [
    "X_scaled = X_scaler.transform(X)"
   ]
  },
  {
   "cell_type": "code",
   "execution_count": 21,
   "metadata": {},
   "outputs": [],
   "source": [
    "from sklearn.model_selection import train_test_split\n",
    "\n",
    "X_train, X_test, y_train, y_test = train_test_split(X_scaled, y, test_size=0.2, random_state=1)"
   ]
  },
  {
   "cell_type": "code",
   "execution_count": 22,
   "metadata": {},
   "outputs": [
    {
     "data": {
      "text/plain": [
       "LogisticRegression(C=1.0, class_weight={0: 0.07, 1: 0.93}, dual=False,\n",
       "          fit_intercept=True, intercept_scaling=1, max_iter=100,\n",
       "          multi_class='ovr', n_jobs=1, penalty='l2', random_state=None,\n",
       "          solver='liblinear', tol=0.0001, verbose=0, warm_start=False)"
      ]
     },
     "execution_count": 22,
     "metadata": {},
     "output_type": "execute_result"
    }
   ],
   "source": [
    "from sklearn.linear_model import LogisticRegression\n",
    "#classifier = LogisticRegression(penalty='l2', solver='saga', class_weight=class_weight)\n",
    "classifier = LogisticRegression(class_weight=class_weight)\n",
    "classifier"
   ]
  },
  {
   "cell_type": "code",
   "execution_count": 23,
   "metadata": {},
   "outputs": [
    {
     "data": {
      "text/plain": [
       "LogisticRegression(C=1.0, class_weight={0: 0.07, 1: 0.93}, dual=False,\n",
       "          fit_intercept=True, intercept_scaling=1, max_iter=100,\n",
       "          multi_class='ovr', n_jobs=1, penalty='l2', random_state=None,\n",
       "          solver='liblinear', tol=0.0001, verbose=0, warm_start=False)"
      ]
     },
     "execution_count": 23,
     "metadata": {},
     "output_type": "execute_result"
    }
   ],
   "source": [
    "classifier.fit(X_train, y_train)"
   ]
  },
  {
   "cell_type": "code",
   "execution_count": 24,
   "metadata": {},
   "outputs": [],
   "source": [
    "y_predict = classifier.predict(X_test)"
   ]
  },
  {
   "cell_type": "code",
   "execution_count": 25,
   "metadata": {},
   "outputs": [
    {
     "name": "stdout",
     "output_type": "stream",
     "text": [
      "Training Data Score: 0.6055744936835773\n",
      "Validation Data Score: 0.6174819566960705\n"
     ]
    }
   ],
   "source": [
    "print(f\"Training Data Score: {classifier.score(X_train, y_train)}\")\n",
    "print(f\"Validation Data Score: {classifier.score(X_test, y_test)}\")\n"
   ]
  },
  {
   "cell_type": "code",
   "execution_count": 26,
   "metadata": {},
   "outputs": [
    {
     "data": {
      "text/plain": [
<<<<<<< HEAD
       "<matplotlib.axes._subplots.AxesSubplot at 0x1d1c350d4a8>"
=======
       "<matplotlib.axes._subplots.AxesSubplot at 0x250c0677a58>"
>>>>>>> a168371f37162f96cc658af4d370fdc9a556ba75
      ]
     },
     "execution_count": 26,
     "metadata": {},
     "output_type": "execute_result"
    },
    {
     "data": {
      "image/png": "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\n",
      "text/plain": [
       "<Figure size 720x504 with 2 Axes>"
      ]
     },
     "metadata": {
      "needs_background": "light"
     },
     "output_type": "display_data"
    }
   ],
   "source": [
    "# Let's check the correlation between the variables \n",
    "plt.figure(figsize=(10,7)) \n",
    "sns.heatmap(df.corr(),annot=True) "
   ]
  },
  {
   "cell_type": "code",
   "execution_count": 27,
   "metadata": {},
   "outputs": [],
   "source": [
    "train_pred = classifier.predict(X_train)"
   ]
  },
  {
   "cell_type": "code",
   "execution_count": 28,
   "metadata": {},
   "outputs": [],
   "source": [
    "tn, fp, fn, tp = confusion_matrix(y_train, train_pred).ravel()"
   ]
  },
  {
   "cell_type": "code",
   "execution_count": 29,
   "metadata": {},
   "outputs": [
    {
     "data": {
      "text/plain": [
       "(2768, 1852, 115, 252)"
      ]
     },
     "execution_count": 29,
     "metadata": {},
     "output_type": "execute_result"
    }
   ],
   "source": [
    "(tn, fp, fn, tp)"
   ]
  },
  {
   "cell_type": "code",
   "execution_count": 30,
   "metadata": {},
   "outputs": [],
   "source": [
    "test_tn, test_fp, test_fn, test_tp = confusion_matrix(y_test, y_predict).ravel()"
   ]
  },
  {
   "cell_type": "code",
   "execution_count": 31,
   "metadata": {},
   "outputs": [
    {
     "data": {
      "text/plain": [
       "(703, 458, 19, 67)"
      ]
     },
     "execution_count": 31,
     "metadata": {},
     "output_type": "execute_result"
    }
   ],
   "source": [
    "(test_tn, test_fp, test_fn, test_tp)"
   ]
  },
  {
   "cell_type": "code",
   "execution_count": 32,
   "metadata": {},
   "outputs": [
    {
     "data": {
      "text/plain": [
       "0.7790697674418605"
      ]
     },
     "execution_count": 32,
     "metadata": {},
     "output_type": "execute_result"
    }
   ],
   "source": [
    "from sklearn.metrics import recall_score\n",
    "recall_score(y_test, y_predict)"
   ]
  },
  {
   "cell_type": "code",
   "execution_count": 33,
   "metadata": {},
   "outputs": [
    {
     "data": {
      "text/plain": [
       "0.12761904761904763"
      ]
     },
     "execution_count": 33,
     "metadata": {},
     "output_type": "execute_result"
    }
   ],
   "source": [
    "precision = (test_tp)/(test_tp + test_fp)\n",
    "precision"
   ]
  },
  {
   "cell_type": "code",
   "execution_count": 34,
   "metadata": {},
   "outputs": [
    {
     "data": {
      "text/plain": [
       "0.6174819566960705"
      ]
     },
     "execution_count": 34,
     "metadata": {},
     "output_type": "execute_result"
    }
   ],
   "source": [
    "accuracy = (test_tp + test_tn)/(test_tp + test_tn + test_fp + test_fn)\n",
    "accuracy"
   ]
  },
  {
   "cell_type": "code",
   "execution_count": 35,
   "metadata": {},
   "outputs": [
    {
     "data": {
      "text/plain": [
       "array([1, 0, 0, ..., 1, 1, 0], dtype=int64)"
      ]
     },
     "execution_count": 35,
     "metadata": {},
     "output_type": "execute_result"
    }
   ],
   "source": [
    "classifier.predict(X_test)"
   ]
  },
  {
   "cell_type": "code",
<<<<<<< HEAD
   "execution_count": 39,
=======
   "execution_count": 23,
>>>>>>> a168371f37162f96cc658af4d370fdc9a556ba75
   "metadata": {},
   "outputs": [
    {
     "data": {
      "text/plain": [
       "array([[0.89383924, 0.10616076]])"
      ]
     },
<<<<<<< HEAD
     "execution_count": 39,
=======
     "execution_count": 23,
>>>>>>> a168371f37162f96cc658af4d370fdc9a556ba75
     "metadata": {},
     "output_type": "execute_result"
    }
   ],
   "source": [
    "classifier.predict_proba(X_scaler.transform([[10000, 0.1, 0.5, 0.25, 0.5, 20, 1]]))"
   ]
  },
  {
   "cell_type": "code",
<<<<<<< HEAD
   "execution_count": 40,
=======
   "execution_count": 24,
>>>>>>> a168371f37162f96cc658af4d370fdc9a556ba75
   "metadata": {},
   "outputs": [
    {
     "data": {
      "text/plain": [
       "array([[0.51382532, 0.48617468],\n",
       "       [0.53022048, 0.46977952],\n",
       "       [0.4653119 , 0.5346881 ],\n",
       "       ...,\n",
       "       [0.41544728, 0.58455272],\n",
       "       [0.79969489, 0.20030511],\n",
       "       [0.65073011, 0.34926989]])"
      ]
     },
<<<<<<< HEAD
     "execution_count": 40,
=======
     "execution_count": 24,
>>>>>>> a168371f37162f96cc658af4d370fdc9a556ba75
     "metadata": {},
     "output_type": "execute_result"
    }
   ],
   "source": [
    "classifier.predict_proba(X_train)"
   ]
  },
  {
   "cell_type": "code",
<<<<<<< HEAD
   "execution_count": 43,
=======
   "execution_count": 25,
>>>>>>> a168371f37162f96cc658af4d370fdc9a556ba75
   "metadata": {},
   "outputs": [
    {
     "name": "stdout",
     "output_type": "stream",
     "text": [
      "[0]\n",
      "[[0.89383924 0.10616076]]\n"
     ]
    }
   ],
   "source": [
    "pickle.dump(classifier, open('model.pkl','wb'))\n",
    "model = pickle.load(open('model.pkl','rb'))\n",
    "print(model.predict(X_scaler.transform([[10000, 0.1, 0.5, 0.25, 0.5, 20, 1]])))\n",
    "print(model.predict_proba(X_scaler.transform([[10000, 0.1, 0.5, 0.25, 0.5, 20, 1]])))"
   ]
  },
  {
   "cell_type": "code",
   "execution_count": null,
   "metadata": {},
   "outputs": [],
   "source": []
  }
 ],
 "metadata": {
  "kernelspec": {
   "display_name": "Python 3",
   "language": "python",
   "name": "python3"
  },
  "language_info": {
   "codemirror_mode": {
    "name": "ipython",
    "version": 3
   },
   "file_extension": ".py",
   "mimetype": "text/x-python",
   "name": "python",
   "nbconvert_exporter": "python",
   "pygments_lexer": "ipython3",
   "version": "3.7.0"
  }
 },
 "nbformat": 4,
 "nbformat_minor": 2
}
